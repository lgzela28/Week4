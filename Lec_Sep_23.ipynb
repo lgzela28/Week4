{
 "cells": [
  {
   "cell_type": "markdown",
   "metadata": {},
   "source": [
    "## REVIEW"
   ]
  },
  {
   "cell_type": "markdown",
   "metadata": {},
   "source": [
    "* What is the syntax to declare and initialize a list of integers?\n",
    "* How to add an item at the end of the list?\n",
    "* How to add an item at a specific position?\n",
    "* How to add the items of `another_list` into `some_list` **using `for` loop**?\n",
    "\n",
    "```python\n",
    "some_list = [1, 2, 3, 4]\n",
    "another_list = [5, 6, 7]\n",
    "```\n",
    "\n",
    "* What is at index 1 in `my_fav_states` at the end of the code block?\n",
    "* What is at index -1?\n",
    "\n",
    "```python\n",
    "my_fav_states = [\"Texas\", \"Maine\", \"California\", \"Washington\", \"Nevada\"]\n",
    "my_fav_states.reverse()\n",
    "my_fav_states.insert(0, \"New York\")\n",
    "my_fav_states.reverse()\n",
    "```"
   ]
  },
  {
   "cell_type": "code",
   "execution_count": 3,
   "metadata": {},
   "outputs": [
    {
     "name": "stdout",
     "output_type": "stream",
     "text": [
      "[1, 2, 3, 4, 5, 6, 7]\n"
     ]
    }
   ],
   "source": [
    "# Using the `for-each` syntax\n",
    "\n",
    "some_list: list[int] = [1, 2, 3, 4]\n",
    "another_list: list[int] = [5, 6, 7]\n",
    "\n",
    "for each_number in another_list:\n",
    "    some_list.append(each_number)\n",
    "\n",
    "print(some_list)"
   ]
  },
  {
   "cell_type": "code",
   "execution_count": 4,
   "metadata": {},
   "outputs": [
    {
     "name": "stdout",
     "output_type": "stream",
     "text": [
      "[1, 2, 3, 4, 5, 6, 7]\n"
     ]
    }
   ],
   "source": [
    "# Using the for i in index syntax\n",
    "\n",
    "some_list: list[int] = [1, 2, 3, 4]\n",
    "another_list: list[int] = [5, 6, 7]\n",
    "\n",
    "for i in range(0, len(another_list)):               # By default `range`` starts from 0, so you can remove it\n",
    "    some_list.append(another_list[i])\n",
    "\n",
    "print(some_list)\n"
   ]
  },
  {
   "cell_type": "code",
   "execution_count": 5,
   "metadata": {},
   "outputs": [
    {
     "name": "stdout",
     "output_type": "stream",
     "text": [
      "[1, 2, 3, 4, 5, 6, 7]\n"
     ]
    }
   ],
   "source": [
    "# A slightly easier way of adding items from one list to another.\n",
    "\n",
    "some_list: list[int] = [1, 2, 3, 4]\n",
    "another_list: list[int] = [5, 6, 7]\n",
    "some_list.extend(another_list)\n",
    "print(some_list)\n",
    "\n",
    "# What happens if I use `append` instead of `extend` on line 4?"
   ]
  },
  {
   "cell_type": "code",
   "execution_count": 6,
   "metadata": {},
   "outputs": [
    {
     "name": "stdout",
     "output_type": "stream",
     "text": [
      "0\n",
      "1\n",
      "2\n"
     ]
    }
   ],
   "source": [
    "# In `range`, if you want to start to start from 0, then you don't need to specify it.\n",
    "\n",
    "for i in range(len(another_list)):\n",
    "    print(i)"
   ]
  },
  {
   "cell_type": "markdown",
   "metadata": {},
   "source": [
    "In the two for loops we have seen, we can either iterate over lists using each item or the index. But there are ways when you can have the best of both worlds. In the following code block you can have the best of both worlds."
   ]
  },
  {
   "cell_type": "code",
   "execution_count": 7,
   "metadata": {},
   "outputs": [
    {
     "name": "stdout",
     "output_type": "stream",
     "text": [
      "0. 5\n",
      "1. 6\n",
      "2. 7\n"
     ]
    }
   ],
   "source": [
    "for i in range(0, len(another_list)):\n",
    "    print(f\"{i}. {another_list[i]}\")"
   ]
  },
  {
   "cell_type": "markdown",
   "metadata": {},
   "source": [
    "#### `enumerate`\n",
    "\n",
    "There is a slightly better way of doing this using `enumerate`. This iterates over the list and gives you the index at the same time. \n"
   ]
  },
  {
   "cell_type": "code",
   "execution_count": 9,
   "metadata": {},
   "outputs": [
    {
     "name": "stdout",
     "output_type": "stream",
     "text": [
      "0, 5\n",
      "1, 6\n",
      "2, 7\n"
     ]
    }
   ],
   "source": [
    "for i, each_item in enumerate(another_list):\n",
    "    print(f\"{i}, {each_item}\")"
   ]
  },
  {
   "cell_type": "markdown",
   "metadata": {},
   "source": [
    "You can enumerate over any sequence, even a string"
   ]
  },
  {
   "cell_type": "code",
   "execution_count": 10,
   "metadata": {},
   "outputs": [
    {
     "name": "stdout",
     "output_type": "stream",
     "text": [
      "0. h\n",
      "1. e\n",
      "2. l\n",
      "3. l\n",
      "4. o\n",
      "5.  \n",
      "6. w\n",
      "7. o\n",
      "8. r\n",
      "9. l\n",
      "10. d\n"
     ]
    }
   ],
   "source": [
    "some_string: str = \"hello world\"\n",
    "for i, each_char in enumerate(some_string):\n",
    "    print(f\"{i}. {each_char}\")"
   ]
  },
  {
   "cell_type": "markdown",
   "metadata": {},
   "source": [
    "In Python, a common convention to ignore a variable is to use `_`. We will look at this more when discussing coding conventions and writing better code"
   ]
  },
  {
   "cell_type": "code",
   "execution_count": 11,
   "metadata": {},
   "outputs": [
    {
     "name": "stdout",
     "output_type": "stream",
     "text": [
      "5\n",
      "6\n",
      "7\n"
     ]
    }
   ],
   "source": [
    "for _, each_item in enumerate(another_list):\n",
    "    print(f\"{each_item}\")"
   ]
  },
  {
   "cell_type": "code",
   "execution_count": 12,
   "metadata": {},
   "outputs": [
    {
     "name": "stdout",
     "output_type": "stream",
     "text": [
      "[1, 2, 3, 4, 'food', 5]\n",
      "[1, 25, 2, 3, 4, 'food', 5]\n"
     ]
    }
   ],
   "source": [
    "age_list: list = [1, 2, 3, 4, \"food\"]\n",
    "age_list.append(5)\n",
    "print(age_list)\n",
    "age_list.insert(1, 25)\n",
    "print(age_list)\n"
   ]
  },
  {
   "cell_type": "markdown",
   "metadata": {},
   "source": [
    "## `while` we are talking about loops\n",
    "\n",
    "`while` is also another way of doing loops. Everything we can do using `for`, we can use `while` for that.  It is a slightly different type of loop but allows for more flexibility.\n",
    "\n",
    "There are three essential steps for creating a `while` loop when iterating over a sequence, similar to `for` loop. These steps are essential for creating a bug-free loop.\n",
    "\n",
    "1. Creating a counter variable - This variable helps us track how many times we want to run the loop.\n",
    "2. Setting up a condition - `while` checks this condition each time. If the condition is `True`, it will keep running the code inside its block. When the condition becomes `False`, `while` stops.\n",
    "3. Updating the counter variable - To avoid running the loop forever, ensure you update the counter variable. \n"
   ]
  },
  {
   "cell_type": "code",
   "execution_count": 13,
   "metadata": {},
   "outputs": [
    {
     "name": "stdout",
     "output_type": "stream",
     "text": [
      "10\n",
      "12\n",
      "15\n",
      "7\n",
      "9\n",
      "15\n",
      "18\n",
      "20\n",
      "23\n"
     ]
    }
   ],
   "source": [
    "some_list: list[int] = [10, 12, 15, 7, 9 , 15, 18, 20, 23]\n",
    "\n",
    "index: int = 0                                  # Step 1. initialize a counter\n",
    "while(index <= (len(some_list) - 1)):           # Step 2. end condition\n",
    "    print(some_list[index])\n",
    "    index += 1                                  # Step 3. update the counter\n",
    "\n",
    "\n",
    "# What happens why you do not have Step 3?"
   ]
  },
  {
   "cell_type": "code",
   "execution_count": 14,
   "metadata": {},
   "outputs": [
    {
     "name": "stdout",
     "output_type": "stream",
     "text": [
      "10\n",
      "12\n",
      "15\n",
      "7\n",
      "9\n",
      "15\n",
      "18\n",
      "20\n",
      "23\n"
     ]
    }
   ],
   "source": [
    "index: int = 0                                  # initialize a counter\n",
    "while(index < (len(some_list))):                # end condition\n",
    "    print(some_list[index])\n",
    "    index += 1                                  # update the counter\n"
   ]
  },
  {
   "cell_type": "code",
   "execution_count": null,
   "metadata": {},
   "outputs": [],
   "source": [
    "# When you want to stop running the while loop, click on the Stop icon to the left of this cell\n",
    "while(True):\n",
    "    print(\"Something\\n\")\n"
   ]
  },
  {
   "cell_type": "markdown",
   "metadata": {},
   "source": [
    "`for` loops are useful when we want to iterate over something whose size if pre-defined, consider lists, string, documents, anything that has already been created. `while` allows to run until some condition is `True`, which allows us to use loops under so many different conditions!\n",
    "\n",
    "\n",
    "For example, in the following code, we can continuosly ask the user to enter a number until they give us a number. Note that we created a variable with empty string first."
   ]
  },
  {
   "cell_type": "code",
   "execution_count": 28,
   "metadata": {},
   "outputs": [],
   "source": [
    "user_input: str = \"\"\n",
    "while(not user_input.isdecimal()):\n",
    "    user_input = input(\"Enter a number\")"
   ]
  },
  {
   "cell_type": "code",
   "execution_count": null,
   "metadata": {},
   "outputs": [],
   "source": [
    "# Print only odd values\n",
    "some_list: list[int] = [10, 12, 15, 7, 9 , 15, 18, 20, 23]\n",
    "\n",
    "index: int = 0\n",
    "while (index < len(some_list)):\n",
    "    if some_list[index] % 2 != 0:\n",
    "        print(some_list[index])\n",
    "    index += 1"
   ]
  },
  {
   "cell_type": "markdown",
   "metadata": {},
   "source": [
    "## `Tuples` and `Sets`\n",
    "\n",
    "We have seen one data-structure so far - `lists`. It is a great way to store items, you just put them together between the square brackets and you can use a loop to go over them or one of built-in operations (aka methods) to use them. \n",
    "\n",
    "However, there are some things that are not so efficient with our list. For example, if we do not want our list to be ever modified after we create, or if we create it and we do not want to store any duplicate items? While some of these operations can be done, it is more challenging and error-prone. This is why Python comes with built-in data types. "
   ]
  },
  {
   "cell_type": "markdown",
   "metadata": {},
   "source": [
    "`Tuples` - (Pronounced either way \"too-ples\" or \"tup-les\") allow you to store items in a sequence, similar to a list, however, you cannot modify it after you create it! Anything you cannot change after it has been created is known as **immutable**. Tuples are *immutable* objects. \n"
   ]
  },
  {
   "cell_type": "code",
   "execution_count": 15,
   "metadata": {},
   "outputs": [
    {
     "name": "stdout",
     "output_type": "stream",
     "text": [
      "(1, 2, 3)\n"
     ]
    },
    {
     "ename": "TypeError",
     "evalue": "'tuple' object does not support item assignment",
     "output_type": "error",
     "traceback": [
      "\u001b[0;31m---------------------------------------------------------------------------\u001b[0m",
      "\u001b[0;31mTypeError\u001b[0m                                 Traceback (most recent call last)",
      "Cell \u001b[0;32mIn[15], line 4\u001b[0m\n\u001b[1;32m      1\u001b[0m some_tuple \u001b[38;5;241m=\u001b[39m (\u001b[38;5;241m1\u001b[39m, \u001b[38;5;241m2\u001b[39m, \u001b[38;5;241m3\u001b[39m)\n\u001b[1;32m      2\u001b[0m \u001b[38;5;28mprint\u001b[39m(some_tuple)\n\u001b[0;32m----> 4\u001b[0m \u001b[43msome_tuple\u001b[49m\u001b[43m[\u001b[49m\u001b[38;5;241;43m0\u001b[39;49m\u001b[43m]\u001b[49m \u001b[38;5;241m=\u001b[39m \u001b[38;5;241m2\u001b[39m               \u001b[38;5;66;03m# Once created, you cannot modify tuples\u001b[39;00m\n",
      "\u001b[0;31mTypeError\u001b[0m: 'tuple' object does not support item assignment"
     ]
    }
   ],
   "source": [
    "some_tuple = (1, 2, 3)\n",
    "print(some_tuple)\n",
    "\n",
    "some_tuple[0] = 2               # Once created, you cannot modify tuples"
   ]
  },
  {
   "cell_type": "code",
   "execution_count": 16,
   "metadata": {},
   "outputs": [],
   "source": [
    "some_random_tuple = (1, 2, \"three\")"
   ]
  },
  {
   "cell_type": "markdown",
   "metadata": {},
   "source": [
    "### `Set`\n",
    "\n",
    "`Sets` - Another data structure for storing items in a list is a `set`. Although `sets` are mutable i.e., you can change the contents of a set using one of its method (Exercise: Explore the methods to manipulate sets), they do not allow duplicate items which allows you to have only unique items in a sequence. Moreoever, with multiple sets, you can find out the common element between two sets, the missing elements between two sets, and so on."
   ]
  },
  {
   "cell_type": "code",
   "execution_count": null,
   "metadata": {},
   "outputs": [],
   "source": [
    "#  You cannot have duplicate values in `set`\n",
    "\n",
    "new_set = {1, 3, 4, 5, 5}\n",
    "print(new_set)\n"
   ]
  },
  {
   "cell_type": "markdown",
   "metadata": {},
   "source": [
    "You can convert `sets` into `lists` and vice-versa without any issues. Just cast one into another as if you would do for data types, such as `str`, or `int` "
   ]
  },
  {
   "cell_type": "code",
   "execution_count": null,
   "metadata": {},
   "outputs": [],
   "source": [
    "# Converting a set into a list\n",
    "\n",
    "another_new_set: set[int] = {1, 2, 3}\n",
    "list_from_another_new_set: list[int] = list(another_new_set)\n",
    "print(type(list_from_another_new_set))\n",
    "print(list_from_another_new_set)"
   ]
  },
  {
   "cell_type": "code",
   "execution_count": null,
   "metadata": {},
   "outputs": [],
   "source": [
    "# Converting a list into a set\n",
    "\n",
    "some_random_list: list[int] = [4, 5, 6, 6]\n",
    "set_of_some_random_list = set(some_random_list)\n",
    "print(set_of_some_random_list)\n"
   ]
  },
  {
   "cell_type": "code",
   "execution_count": 60,
   "metadata": {},
   "outputs": [],
   "source": [
    "new_set = {\"1\", 2, 3, }                             # You can add any type of data you want to inside sets"
   ]
  },
  {
   "cell_type": "markdown",
   "metadata": {},
   "source": [
    "### EXERCISE: Explore the methods of `tuples` and `sets` below"
   ]
  },
  {
   "cell_type": "code",
   "execution_count": 18,
   "metadata": {},
   "outputs": [
    {
     "name": "stdout",
     "output_type": "stream",
     "text": [
      "2\n"
     ]
    }
   ],
   "source": [
    "my_tuple = (1, 2, 3, 1)\n",
    "count_of_1 = my_tuple.count(1)\n",
    "print(count_of_1)"
   ]
  },
  {
   "cell_type": "code",
   "execution_count": 20,
   "metadata": {},
   "outputs": [
    {
     "name": "stdout",
     "output_type": "stream",
     "text": [
      "1\n"
     ]
    }
   ],
   "source": [
    "first_element = my_tuple[0] \n",
    "print(first_element)"
   ]
  },
  {
   "cell_type": "code",
   "execution_count": 21,
   "metadata": {},
   "outputs": [
    {
     "name": "stdout",
     "output_type": "stream",
     "text": [
      "{1, 2, 3, 'hello', 4}\n"
     ]
    }
   ],
   "source": [
    "my_set = {1, 2, 3, 'hello'}\n",
    "my_set.add(4)\n",
    "print(my_set)"
   ]
  }
 ],
 "metadata": {
  "kernelspec": {
   "display_name": "Python 3",
   "language": "python",
   "name": "python3"
  },
  "language_info": {
   "codemirror_mode": {
    "name": "ipython",
    "version": 3
   },
   "file_extension": ".py",
   "mimetype": "text/x-python",
   "name": "python",
   "nbconvert_exporter": "python",
   "pygments_lexer": "ipython3",
   "version": "3.9.6"
  }
 },
 "nbformat": 4,
 "nbformat_minor": 2
}
